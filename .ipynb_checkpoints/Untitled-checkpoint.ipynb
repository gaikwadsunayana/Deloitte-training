{
 "cells": [
  {
   "cell_type": "code",
   "execution_count": 10,
   "id": "64d9d559-c63f-4894-a840-885165bcde20",
   "metadata": {},
   "outputs": [],
   "source": [
    "import boto3"
   ]
  },
  {
   "cell_type": "code",
   "execution_count": 16,
   "id": "497c1f88-8a38-4d6a-9df1-3e1312dece06",
   "metadata": {},
   "outputs": [],
   "source": [
    "myec2 = boto3.resource(service_name=\"ec2\",\n",
    "                       region_name=\"ap-south-1\",\n",
    "                       aws_access_key_id=\"AKIAXYKJPWW3ZFQ\",\n",
    "                       aws_secret_access_key=\"YTaYRb2a6ictYq688jn8qsWfd2W6zwkgOH\"\n",
    "                      )"
   ]
  },
  {
   "cell_type": "code",
   "execution_count": 19,
   "id": "06477524-17a3-48e3-9755-23d75d1c6d38",
   "metadata": {},
   "outputs": [],
   "source": [
    "def osLaunch():\n",
    "    myid = myec2.create_instances(\n",
    "                InstanceType=\"t2.micro\",\n",
    "                ImageId=\"ami-0fd05997b4dff7aac\",\n",
    "                MinCount=1,\n",
    "                MaxCount=1\n",
    "                      )\n",
    "\n",
    "    return myid"
   ]
  },
  {
   "cell_type": "code",
   "execution_count": 20,
   "id": "2ad07dff-a414-4963-a7e7-925acb58ad80",
   "metadata": {},
   "outputs": [],
   "source": [
    "myOS = osLaunch()"
   ]
  },
  {
   "cell_type": "code",
   "execution_count": 22,
   "id": "7707d207-754e-4ca9-8716-dd41ae56868a",
   "metadata": {},
   "outputs": [
    {
     "data": {
      "text/plain": [
       "'i-0da188214c364bc7f'"
      ]
     },
     "execution_count": 22,
     "metadata": {},
     "output_type": "execute_result"
    }
   ],
   "source": [
    "myOS[0].id"
   ]
  },
  {
   "cell_type": "code",
   "execution_count": 28,
   "id": "03c434a0-d149-4040-9a5f-cc2579ef9662",
   "metadata": {},
   "outputs": [
    {
     "ename": "NameError",
     "evalue": "name 'myoslist' is not defined",
     "output_type": "error",
     "traceback": [
      "\u001b[1;31m---------------------------------------------------------------------------\u001b[0m",
      "\u001b[1;31mNameError\u001b[0m                                 Traceback (most recent call last)",
      "Cell \u001b[1;32mIn[28], line 1\u001b[0m\n\u001b[1;32m----> 1\u001b[0m myoslist\u001b[38;5;241m.\u001b[39mappend( myOS[\u001b[38;5;241m0\u001b[39m]\u001b[38;5;241m.\u001b[39mid )\n",
      "\u001b[1;31mNameError\u001b[0m: name 'myoslist' is not defined"
     ]
    }
   ],
   "source": [
    "myoslist.append( myOS[0].id )"
   ]
  },
  {
   "cell_type": "code",
   "execution_count": 29,
   "id": "ba9defd6-1406-431d-aba5-07bc8b0866b3",
   "metadata": {},
   "outputs": [
    {
     "ename": "NameError",
     "evalue": "name 'myoslist' is not defined",
     "output_type": "error",
     "traceback": [
      "\u001b[1;31m---------------------------------------------------------------------------\u001b[0m",
      "\u001b[1;31mNameError\u001b[0m                                 Traceback (most recent call last)",
      "Cell \u001b[1;32mIn[29], line 1\u001b[0m\n\u001b[1;32m----> 1\u001b[0m myoslist()\n",
      "\u001b[1;31mNameError\u001b[0m: name 'myoslist' is not defined"
     ]
    }
   ],
   "source": [
    "myoslist()"
   ]
  },
  {
   "cell_type": "code",
   "execution_count": null,
   "id": "9ea25e42-7bf0-4109-97f4-b3dee29e83ae",
   "metadata": {},
   "outputs": [],
   "source": []
  },
  {
   "cell_type": "code",
   "execution_count": null,
   "id": "c0ab0bba-989b-4df9-b9ab-9d8843cb6340",
   "metadata": {},
   "outputs": [],
   "source": []
  },
  {
   "cell_type": "code",
   "execution_count": null,
   "id": "1c67e4cf-2267-4180-a423-97f7e9f25f17",
   "metadata": {},
   "outputs": [],
   "source": [
    "myoslist"
   ]
  },
  {
   "cell_type": "code",
   "execution_count": null,
   "id": "df82680d-b4e6-425d-9311-03a27f651721",
   "metadata": {},
   "outputs": [],
   "source": [
    "len(myoslist)"
   ]
  }
 ],
 "metadata": {
  "kernelspec": {
   "display_name": "Python 3 (ipykernel)",
   "language": "python",
   "name": "python3"
  },
  "language_info": {
   "codemirror_mode": {
    "name": "ipython",
    "version": 3
   },
   "file_extension": ".py",
   "mimetype": "text/x-python",
   "name": "python",
   "nbconvert_exporter": "python",
   "pygments_lexer": "ipython3",
   "version": "3.12.7"
  }
 },
 "nbformat": 4,
 "nbformat_minor": 5
}
